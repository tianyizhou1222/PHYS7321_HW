{
 "cells": [
  {
   "cell_type": "markdown",
   "metadata": {},
   "source": [
    "## Challenge Problem 1.1 (From *Computational Physics* Newman)\n",
    "The simple harmonic oscillator crops up in many places. Its behaviors can be studied readily using analytic methods and it has the important property that its period of oscillation is constant, independent of its amplitude, making it useful, for instance, for keeping time in watches and clocks. \n",
    "Frequently in physics, however, we also come across anharmonic oscillators, whose period varies with amplitude and whose behavior cannot usually be calculated analytically. A general classical oscillator can be thought of as a particle in a concave potential well. When disturbed, the particle will rock back and forth in the well. The harmonic oscillator corresponds to a quadratic potential $V(x)\\alpha x^2$. Any other form gives an anharmonic oscillator.\n",
    "One way to calculate the motion of an oscillator is to write down the equation for the conservation of enregy in the system. If the particle has a mass *m* and position *x*, then the total energy is equal to the sum of the kinetic and potential energies thus: $$E = \\frac{1}{2}m\\left(\\frac{dx}{dt}\\right)^2 + V(x).$$ Since the energy must be constant over time, this equation is effectively a differential equation linking *x* and *t*. \n",
    "Let us assume that the potential $V(x)$ is symmetric about $x=0$ and let us set our anharmonic oscillator going with amplitude *a* and it swings back towards the origin. Then at $t=0$ we have $dx/dt=0$.\n",
    "\n",
    "(a) Convince yourself that the period of this oscillator is $$T = \\int_{0}^{a} \\frac{dx}{\\sqrt{V(a)-V(x)}}$$.\n",
    "\n",
    "(b) Write a program in Python and MATLAB that takes the amplitude *a* as an argument and calculates the period of an anharmonic ocsillator with a mass $m=1$ and potential $V(x)=x^4$. Experiment with different integral functions.\n",
    "\n",
    "(c) Use your function to make a graph of the period for amplitudes ranging from $a=0$ to $a=4$. Do the results match your physical intuition?"
   ]
  },
  {
   "cell_type": "markdown",
   "metadata": {},
   "source": [
    "## Interprete T\n",
    "We notice that when $x=a$, $dx/dt=0$, making energy $$E=V(a)$$\n",
    "Seperate x and t, $$\\sqrt{\\frac{2}{m}(V(a)-V(x))}=\\pm \\frac{dx}{dt}$$\n",
    "At $t=0$ we have $dx/dt=0$, so it starts at $x=a$. If we integrate x from a to 0, t from 0 to $T/4$, then $dx/dt$ should be negative. We get: $$\\sqrt{\\frac{2}{m}}\\frac{1}{4}T = \\int_0^a\\frac{dx}{\\sqrt{V(a)-V(x)}}$$\n",
    "Thus, the period of the oscillator is given by:\n",
    "$$T = \\sqrt{8m}\\int_0^a\\frac{dx}{\\sqrt{V(a)-V(x)}}$$"
   ]
  },
  {
   "cell_type": "markdown",
   "metadata": {},
   "source": [
    "## Calculate T(a) dependence directly using for loop and myint.py"
   ]
  },
  {
   "cell_type": "code",
   "execution_count": 58,
   "metadata": {},
   "outputs": [],
   "source": [
    "import numpy as np\n",
    "import matplotlib.pyplot as plt\n",
    "import myint"
   ]
  },
  {
   "cell_type": "code",
   "execution_count": 59,
   "metadata": {},
   "outputs": [],
   "source": [
    "epsilon = 10e-5                      # define an infinitesimal to avoid x=a situation in integral\n",
    "arange = np.linspace(10e-3,4,1000)    # range for a starts at 0.01 to avoid a=0 & x=0 situation\n",
    "N = 10  # step number of integration\n",
    "\n",
    "int1_f = []\n",
    "int2_f = []\n",
    "int3_f = []\n",
    "int4_f = []\n",
    "int5_f = []\n",
    "\n",
    "for a in arange:\n",
    "    \n",
    "    f = lambda x: 1/np.sqrt(8*(a**4 - x**4))\n",
    "    inttrap_f = myint.trapezoidrule(f,0,a-epsilon,N)\n",
    "    intsimp_f = myint.trapezoidrule(f,0,a-epsilon,N)\n",
    "    intcub_f = myint.trapezoidrule(f,0,a-epsilon,N)\n",
    "    intquar_f = myint.trapezoidrule(f,0,a-epsilon,N)\n",
    "    intromb_f = myint.trapezoidrule(f,0,a-epsilon,N)\n",
    "    \n",
    "    int1_f.append(inttrap_f)\n",
    "    int2_f.append(intsimp_f)\n",
    "    int3_f.append(intcub_f)\n",
    "    int4_f.append(intquar_f)\n",
    "    int5_f.append(intromb_f)\n",
    "    \n"
   ]
  },
  {
   "cell_type": "code",
   "execution_count": 60,
   "metadata": {},
   "outputs": [
    {
     "data": {
      "text/plain": [
       "Text(0,0.5,'T')"
      ]
     },
     "execution_count": 60,
     "metadata": {},
     "output_type": "execute_result"
    },
    {
     "data": {
      "image/png": "[encoded data removed]",
      "text/plain": [
       "<Figure size 432x288 with 1 Axes>"
      ]
     },
     "metadata": {},
     "output_type": "display_data"
    }
   ],
   "source": [
    "# Plot T(a) dependence for a in (0,4)\n",
    "plt.figure(1)\n",
    "plt.plot(arange,int1_f,'-k')\n",
    "plt.plot(arange,int2_f,'-b')\n",
    "plt.plot(arange,int3_f,'-g')\n",
    "plt.plot(arange,int4_f,'--k')\n",
    "plt.plot(arange,int5_f,'--b')\n",
    "plt.xlabel(r'a')\n",
    "plt.ylabel(r'T')"
   ]
  },
  {
   "cell_type": "code",
   "execution_count": 72,
   "metadata": {},
   "outputs": [
    {
     "data": {
      "text/plain": [
       "Text(0,0.5,'T')"
      ]
     },
     "execution_count": 72,
     "metadata": {},
     "output_type": "execute_result"
    },
    {
     "data": {
      "image/png": "[encoded data removed]",
      "text/plain": [
       "<Figure size 432x288 with 1 Axes>"
      ]
     },
     "metadata": {},
     "output_type": "display_data"
    }
   ],
   "source": [
    "# A zoom in plot of T(a) dependence for a in (0,0.5)\n",
    "plt.figure(2)\n",
    "plt.plot(arange,int5_f,'--.')\n",
    "plt.xlim(0,0.5)\n",
    "plt.xlabel(r'a')\n",
    "plt.ylabel(r'T')"
   ]
  },
  {
   "cell_type": "markdown",
   "metadata": {},
   "source": [
    "## Comments\n",
    "We can see from the graph that amplitude dependence of period for anharmonic oscillator seems as the same shape of function $y=1/\\sqrt{x}$. And this can be predicted directly from the expression for $T$:\n",
    "$$T = \\sqrt{8m}\\int_0^a\\frac{dx}{a^4-x^4}$$\n",
    "If we set $x=ay$, and change integration variable $x$ to $y$:\n",
    "$$T = \\sqrt{\\frac{8m}{a}}\\int_0^1\\frac{dy}{1-y^4}$$\n",
    "And period is actually proportional to $1/\\sqrt{a}$."
   ]
  },
  {
   "cell_type": "code",
   "execution_count": null,
   "metadata": {},
   "outputs": [],
   "source": []
  }
 ],
 "metadata": {
  "kernelspec": {
   "display_name": "Python 3",
   "language": "python",
   "name": "python3"
  },
  "language_info": {
   "codemirror_mode": {
    "name": "ipython",
    "version": 3
   },
   "file_extension": ".py",
   "mimetype": "text/x-python",
   "name": "python",
   "nbconvert_exporter": "python",
   "pygments_lexer": "ipython3",
   "version": "3.6.5"
  }
 },
 "nbformat": 4,
 "nbformat_minor": 2
}
