{
 "cells": [
  {
   "cell_type": "markdown",
   "metadata": {},
   "source": [
    "## Two bars in contact: \n",
    "Two identical bars, 25cm long each, are in contact. One bar is initially at $50^{\\circ}C$, and the other at $100^{\\circ}C$. The free ends are kept at $0^{\\circ}C$. Calculate and plot the temperature distribution as a function of time."
   ]
  },
  {
   "cell_type": "code",
   "execution_count": 26,
   "metadata": {},
   "outputs": [],
   "source": [
    "%matplotlib inline\n",
    "import numpy as np\n",
    "import matplotlib.pyplot as plt\n",
    "import matplotlib.animation as animation\n",
    "from JSAnimation.IPython_display import display_animation"
   ]
  },
  {
   "cell_type": "code",
   "execution_count": 27,
   "metadata": {},
   "outputs": [
    {
     "name": "stdout",
     "output_type": "stream",
     "text": [
      "0.33452807646356025\n"
     ]
    }
   ],
   "source": [
    "## Let's choose Al bar to study.\n",
    "\n",
    "K = 0.49\n",
    "c = 0.217\n",
    "rho = 2.7\n",
    "alpha = K/c/rho\n",
    "\n",
    "l = 50    #length of the bar\n",
    "dx = 0.5  # space step\n",
    "nx = int(l/dx)  # number of points in space\n",
    "mx = int(nx/2)  # number of points in single bar\n",
    "x = np.arange(0,l+dx,dx) # the +1 is necessary to store the value at l\n",
    "dt = 0.1\n",
    "C = dx**2/dt\n",
    "r = alpha/C\n",
    "\n",
    "print(r)"
   ]
  },
  {
   "cell_type": "code",
   "execution_count": 28,
   "metadata": {},
   "outputs": [
    {
     "name": "stdout",
     "output_type": "stream",
     "text": [
      "Time starts at t=0s and ends at t=200.0s\n"
     ]
    },
    {
     "data": {
      "image/png": "[encoded data removed]",
      "text/plain": [
       "<Figure size 432x288 with 1 Axes>"
      ]
     },
     "metadata": {},
     "output_type": "display_data"
    }
   ],
   "source": [
    "t0 = np.zeros(nx+1)\n",
    "t1 = np.zeros(nx+1)\n",
    "\n",
    "t0[:mx] = 50.\n",
    "t0[mx:] = 100. # Middle point is at 100\n",
    "t0[0] = 0.\n",
    "t0[nx] = 0.\n",
    "\n",
    "\n",
    "fig = plt.figure()\n",
    "ax = plt.axes(xlim=(0, l), ylim=(0, 120), xlabel='x', ylabel='T')\n",
    "points, = ax.plot([], [], marker='', linestyle='-', lw=3)\n",
    "plt.title('Two Al bars in contact')\n",
    "\n",
    "def evolve(i):\n",
    "    \n",
    "    global t0, t1\n",
    "\n",
    "    for ix in range(1,nx):\n",
    "        t1[ix] = t0[ix] + r*(t0[ix+1]+t0[ix-1]-2*t0[ix])  \n",
    "\n",
    "    points.set_data(x, t0)\n",
    "\n",
    "    for ix in range(nx):\n",
    "        t0[ix] = t1[ix]       \n",
    "\n",
    "    return points\n",
    "\n",
    "N = 2000\n",
    "anim = animation.FuncAnimation(fig, evolve, frames = N, interval=10)\n",
    "print('Time starts at t=0s and ends at t={}s'.format(dt*N))\n",
    "\n"
   ]
  },
  {
   "cell_type": "code",
   "execution_count": 29,
   "metadata": {},
   "outputs": [],
   "source": [
    "#display_animation(anim, default_mode='once')"
   ]
  },
  {
   "cell_type": "code",
   "execution_count": null,
   "metadata": {},
   "outputs": [],
   "source": []
  }
 ],
 "metadata": {
  "kernelspec": {
   "display_name": "Python 3",
   "language": "python",
   "name": "python3"
  },
  "language_info": {
   "codemirror_mode": {
    "name": "ipython",
    "version": 3
   },
   "file_extension": ".py",
   "mimetype": "text/x-python",
   "name": "python",
   "nbconvert_exporter": "python",
   "pygments_lexer": "ipython3",
   "version": "3.6.5"
  }
 },
 "nbformat": 4,
 "nbformat_minor": 2
}
