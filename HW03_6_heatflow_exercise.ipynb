{
 "cells": [
  {
   "cell_type": "markdown",
   "metadata": {},
   "source": [
    "\n",
    "#### The finite differences algorithm for the heat equation.\n",
    "\n",
    "$$T(x,t+\\Delta t)=T(x,t)+\\frac{\\alpha}{C}\\left[T(x+\\Delta x,t)+T(x-\\Delta x,t)\n",
    "-2T(x,t) \\right], \n",
    "$$ with the constant $C=(\\Delta x)^2/\\Delta t$.\n",
    "\n",
    "\n",
    "The stability condition for a numerical solution of the 1D heat equation is given by\n",
    "$$\\alpha\\frac{\\Delta t}{(\\Delta x)^2} \\leq \\frac{1}{2}$$ or $$\\alpha\\frac{\\Delta t}{(\\Delta x)^2} \\leq \\frac{1}{4}$$ for the 2D heat equation. \n",
    "\n",
    "### Exercise 1: Finite differences program \n",
    "\n",
    "Solve the temperature distribution within an iron bar of length $l=50$cm\n",
    "with the boundary conditions $$T(x=0,t)=T(x=l,t)=0,$$ and initial\n",
    "conditions $$T(x,t=0)=100^{\\circ}\\mathrm{C}.$$ The corresponding\n",
    "constants for iron are:\n",
    "$$c=0.113 \\mathrm{cal/(g^{\\circ} C)},\\,\\, K=0.12 \\mathrm{cal/(sg^{\\circ}C)},\n",
    "\\,\\,\\rho=7.8 \\mathrm{g/cc}.$$\n",
    "\n",
    "1.  Write the program to solve the heat flow equation using the finite\n",
    "    differences method\n",
    "\n",
    "2.  Plot the temperature gradient along the bar at different instants\n",
    "    of time. Use 100 space divisions for the calculation. Choose an\n",
    "    appropiate time step such that the numerical solution is stable.\n",
    "    Check that the temperature diverges with time as the constant $c$ is\n",
    "    made larger that $0.5$.\n",
    "\n",
    "3.  Repeat the calculation for aluminum, $c=0.217cal/(g^{\\circ}C)$,\n",
    "    $K=0.49\n",
    "    cal/(g^{\\circ}C)$, $\\rho=2.7g/cc$. Note that the stability condition\n",
    "    requires you to change the size of the time step.\n",
    "\n",
    "4.  Analyze and compare the results for both materials. The shape of the\n",
    "    curves may be the same but not the scale. Which bar cools faster and\n",
    "    why?\n",
    "\n",
    "5.  Pick a sinusoidal initial gradient: $$T(x,t=0)=\\sin{(\\pi x/l)}.$$\n",
    "    Compare with the analytic solution\n",
    "    $$T(x,t)=\\sin{(\\frac{\\pi x}{l})}e^{\\pi^2\\alpha t/l^2}.$$\n",
    "\n"
   ]
  },
  {
   "cell_type": "code",
   "execution_count": 5,
   "metadata": {},
   "outputs": [
    {
     "name": "stdout",
     "output_type": "stream",
     "text": [
      "0.05445881552076241\n"
     ]
    }
   ],
   "source": [
    "%matplotlib inline\n",
    "import numpy as np\n",
    "import matplotlib.pyplot as plt\n",
    "import matplotlib.animation as animation\n",
    "from JSAnimation.IPython_display import display_animation\n",
    "\n",
    "## Parameters for iron bar\n",
    "K = 0.12\n",
    "c = 0.113\n",
    "rho = 7.8\n",
    "alpha = K/c/rho\n",
    "\n",
    "l = 50    #length of the bar\n",
    "dx = 0.5  # space step\n",
    "nx = int(l/dx)  # number of points in space\n",
    "x = np.arange(0,l+dx,dx) # the +1 is necessary to store the value at l\n",
    "dt = 0.1\n",
    "C = dx**2/dt\n",
    "r = alpha/C\n",
    "\n",
    "print(r)"
   ]
  },
  {
   "cell_type": "code",
   "execution_count": 6,
   "metadata": {
    "scrolled": false
   },
   "outputs": [
    {
     "name": "stdout",
     "output_type": "stream",
     "text": [
      "Time starts at t=0s and ends at t=200.0s\n"
     ]
    },
    {
     "data": {
      "image/png": "[encoded data removed]",
      "text/plain": [
       "<Figure size 432x288 with 1 Axes>"
      ]
     },
     "metadata": {},
     "output_type": "display_data"
    }
   ],
   "source": [
    "t0 = np.zeros(nx+1)\n",
    "t1 = np.zeros(nx+1) # these arrays will contain the new displacements at t, and t+delta\n",
    "\n",
    "#Initial conditions\n",
    "t0[:] = 100.\n",
    "t0[0] = 0.\n",
    "t0[nx] = 0.\n",
    "\n",
    "\n",
    "fig = plt.figure()\n",
    "ax = plt.axes(xlim=(0, l), ylim=(0, 120), xlabel='x', ylabel='T')\n",
    "points, = ax.plot([], [], marker='', linestyle='-', lw=3)\n",
    "\n",
    "def evolve(i):\n",
    "    \n",
    "    ## t0 is temp file at time t, updated at the end of every loop,\n",
    "    ##    and finally used to plot\n",
    "    ## t1 is temp file at time t+dt, passed to t0 at the end of every loop,\n",
    "    ##    only lives in the loop\n",
    "    \n",
    "    global t0, t1\n",
    "\n",
    "    for ix in range(1,nx):\n",
    "        t1[ix] = t0[ix] + r*(t0[ix+1]+t0[ix-1]-2*t0[ix])  \n",
    "\n",
    "    points.set_data(x, t0)\n",
    "\n",
    "    for ix in range(nx):\n",
    "        t0[ix] = t1[ix]       \n",
    "\n",
    "    return points\n",
    "\n",
    "## How FuncAnimation(fig, evolve, frames = 2000, interval=10) works?\n",
    "##   'frames' is the number of slices in time dimension\n",
    "##   call function 'evolve' and plot 'fig' and repeat 2000 times\n",
    "##   similar as  \n",
    "##   for i in range(2000): evolve(i)\n",
    "##   'interval' is time delay(in milliseconds) between frames\n",
    "\n",
    "## Here we plot from t=0 to t=dt*2000=1000\n",
    "\n",
    "N = 2000\n",
    "anim1 = animation.FuncAnimation(fig, evolve, frames = N, interval=10)\n",
    "print('Time starts at t=0s and ends at t={}s'.format(dt*N))\n",
    "\n",
    "#for i in range(2000):\n",
    "#    evolve(i)   \n",
    "#plt.plot(x, t0, color='blue', ls='-', lw=3);"
   ]
  },
  {
   "cell_type": "code",
   "execution_count": 7,
   "metadata": {},
   "outputs": [],
   "source": [
    "#display_animation(anim1, default_mode='once')"
   ]
  },
  {
   "cell_type": "markdown",
   "metadata": {},
   "source": [
    "### If we set dt=1, make constant larger than 0.5"
   ]
  },
  {
   "cell_type": "code",
   "execution_count": 8,
   "metadata": {},
   "outputs": [
    {
     "name": "stdout",
     "output_type": "stream",
     "text": [
      "0.5445881552076242\n"
     ]
    }
   ],
   "source": [
    "dt = 1\n",
    "C = dx**2/dt\n",
    "r = alpha/C\n",
    "\n",
    "print(r)"
   ]
  },
  {
   "cell_type": "code",
   "execution_count": 9,
   "metadata": {},
   "outputs": [
    {
     "name": "stdout",
     "output_type": "stream",
     "text": [
      "Time starts at t=0s and ends at t=2000s\n"
     ]
    },
    {
     "data": {
      "image/png": "[encoded data removed]",
      "text/plain": [
       "<Figure size 432x288 with 1 Axes>"
      ]
     },
     "metadata": {},
     "output_type": "display_data"
    }
   ],
   "source": [
    "t0 = np.zeros(nx+1)\n",
    "t1 = np.zeros(nx+1)\n",
    "\n",
    "t0[:] = 100.\n",
    "t0[0] = 0.\n",
    "t0[nx] = 0.\n",
    "\n",
    "fig = plt.figure()\n",
    "ax = plt.axes(xlim=(0, l), ylim=(0, 120), xlabel='x', ylabel='T')\n",
    "points, = ax.plot([], [], marker='', linestyle='-', lw=3)\n",
    "\n",
    "def evolve(i):\n",
    "    \n",
    "    global t0, t1\n",
    "\n",
    "    for ix in range(1,nx):\n",
    "        t1[ix] = t0[ix] + r*(t0[ix+1]+t0[ix-1]-2*t0[ix])  \n",
    "\n",
    "    points.set_data(x, t0)\n",
    "\n",
    "    for ix in range(nx):\n",
    "        t0[ix] = t1[ix]       \n",
    "\n",
    "    return points\n",
    "\n",
    "N = 2000\n",
    "anim2 = animation.FuncAnimation(fig, evolve, frames = N, interval=10)\n",
    "print('Time starts at t=0s and ends at t={}s'.format(dt*N))\n",
    "\n"
   ]
  },
  {
   "cell_type": "code",
   "execution_count": 10,
   "metadata": {},
   "outputs": [],
   "source": [
    "#display_animation(anim2, default_mode='once')"
   ]
  },
  {
   "cell_type": "markdown",
   "metadata": {},
   "source": [
    "### Repeat for Aluminum(different set of parmateters and dt)"
   ]
  },
  {
   "cell_type": "code",
   "execution_count": 11,
   "metadata": {},
   "outputs": [
    {
     "name": "stdout",
     "output_type": "stream",
     "text": [
      "0.33452807646356025\n"
     ]
    }
   ],
   "source": [
    "## Parameters for aluminum bar\n",
    "K = 0.49\n",
    "c = 0.217\n",
    "rho = 2.7\n",
    "alpha = K/c/rho\n",
    "\n",
    "l = 50    #length of the bar\n",
    "dx = 0.5  # space step\n",
    "nx = int(l/dx)  # number of points in space\n",
    "x = np.arange(0,l+dx,dx) # the +1 is necessary to store the value at l\n",
    "dt = 0.1\n",
    "C = dx**2/dt\n",
    "r = alpha/C\n",
    "\n",
    "print(r)"
   ]
  },
  {
   "cell_type": "code",
   "execution_count": 12,
   "metadata": {},
   "outputs": [
    {
     "name": "stdout",
     "output_type": "stream",
     "text": [
      "Time starts at t=0s and ends at t=200.0s\n"
     ]
    },
    {
     "data": {
      "image/png": "[encoded data removed]",
      "text/plain": [
       "<Figure size 432x288 with 1 Axes>"
      ]
     },
     "metadata": {},
     "output_type": "display_data"
    }
   ],
   "source": [
    "t0 = np.zeros(nx+1)\n",
    "t1 = np.zeros(nx+1)\n",
    "\n",
    "t0[:] = 100.\n",
    "t0[0] = 0.\n",
    "t0[nx] = 0.\n",
    "\n",
    "fig = plt.figure()\n",
    "ax = plt.axes(xlim=(0, l), ylim=(0, 120), xlabel='x', ylabel='T')\n",
    "points, = ax.plot([], [], marker='', linestyle='-', lw=3)\n",
    "\n",
    "def evolve(i):\n",
    "    \n",
    "    global t0, t1\n",
    "\n",
    "    for ix in range(1,nx):\n",
    "        t1[ix] = t0[ix] + r*(t0[ix+1]+t0[ix-1]-2*t0[ix])  \n",
    "\n",
    "    points.set_data(x, t0)\n",
    "\n",
    "    for ix in range(nx):\n",
    "        t0[ix] = t1[ix]       \n",
    "\n",
    "    return points\n",
    "\n",
    "N = 2000\n",
    "anim3 = animation.FuncAnimation(fig, evolve, frames = N, interval=10)\n",
    "print('Time starts at t=0s and ends at t={}s'.format(dt*N))\n"
   ]
  },
  {
   "cell_type": "code",
   "execution_count": 13,
   "metadata": {},
   "outputs": [],
   "source": [
    "#display_animation(anim3, default_mode='once')"
   ]
  },
  {
   "cell_type": "markdown",
   "metadata": {},
   "source": [
    "We plotted the temperature file Fe bar and Al bar in the same time scale: both from 0 to 200s. At t=200s, the middle part of Fe bar still stays at 100 degree, while in the same position for Al bar it's already down to 70. So Al bar cools faster than Fe bar."
   ]
  },
  {
   "cell_type": "markdown",
   "metadata": {},
   "source": [
    "### Sinusoidal initial gradient: $$T(x,t=0)=\\sin{(\\pi x/l)}.$$\n",
    "Analytic solution\n",
    "    $$T(x,t)=\\sin{(\\frac{\\pi x}{l})}e^{\\pi^2\\alpha t/l^2}.$$\n",
    "\n",
    "Let's choose Al bar to calculate:"
   ]
  },
  {
   "cell_type": "code",
   "execution_count": 14,
   "metadata": {},
   "outputs": [
    {
     "name": "stdout",
     "output_type": "stream",
     "text": [
      "0.33452807646356025\n"
     ]
    }
   ],
   "source": [
    "K = 0.49\n",
    "c = 0.217\n",
    "rho = 2.7\n",
    "alpha = K/c/rho\n",
    "\n",
    "l = 50    #length of the bar\n",
    "dx = 0.5  # space step\n",
    "nx = int(l/dx)  # number of points in space\n",
    "x = np.arange(0,l+dx,dx) # the +1 is necessary to store the value at l\n",
    "dt = 0.1\n",
    "C = dx**2/dt\n",
    "r = alpha/C\n",
    "\n",
    "print(r)"
   ]
  },
  {
   "cell_type": "code",
   "execution_count": 15,
   "metadata": {},
   "outputs": [
    {
     "name": "stdout",
     "output_type": "stream",
     "text": [
      "Time starts at t=0s and ends at t=200.0s\n"
     ]
    },
    {
     "data": {
      "image/png": "[encoded data removed]",
      "text/plain": [
       "<Figure size 432x288 with 2 Axes>"
      ]
     },
     "metadata": {},
     "output_type": "display_data"
    }
   ],
   "source": [
    "t0 = np.zeros(nx+1)\n",
    "t1 = np.zeros(nx+1)\n",
    "t0_aly = np.zeros(nx+1)\n",
    "t1_aly = np.zeros(nx+1)\n",
    "\n",
    "t0[:] = np.sin(np.pi*x/l)\n",
    "t0[0] = 0.\n",
    "t0[nx] = 0.\n",
    "\n",
    "t0_aly = t0\n",
    "\n",
    "fig, (ax1,ax2) = plt.subplots(2,1)\n",
    "plt.subplots_adjust(hspace=0.7)\n",
    "ax1.set_title('Simulated')\n",
    "ax1.set_xlabel('x')\n",
    "ax1.set_ylabel('T')\n",
    "ax1.axis([0,50,0,1.2])\n",
    "ax2.set_title('Analytical')\n",
    "ax2.set_xlabel('x')\n",
    "ax2.set_ylabel('T')\n",
    "ax2.axis([0,50,0,1.2])\n",
    "points, = ax1.plot([], [], 'b', marker='', linestyle='-', lw=3)\n",
    "points_aly, = ax2.plot([], [], 'r', marker='', linestyle='-', lw=3)\n",
    "\n",
    "def evolve(i):\n",
    "    \n",
    "    global t0, t1, t0_aly, t1_aly\n",
    "\n",
    "    for ix in range(1,nx):\n",
    "        t1[ix] = t0[ix] + r*(t0[ix+1]+t0[ix-1]-2*t0[ix]) \n",
    "        t1_aly[ix] = np.sin(np.pi*dx*ix/l)*np.exp(-np.pi**2*alpha*dt*(i+1)/l**2)\n",
    "\n",
    "    points.set_data(x, t0)\n",
    "    points_aly.set_data(x,t0_aly)\n",
    "\n",
    "    for ix in range(nx):\n",
    "        t0[ix] = t1[ix]\n",
    "        t0_aly[ix] = t1_aly[ix]\n",
    "\n",
    "    return points, points_aly\n",
    "\n",
    "N = 2000\n",
    "anim4 = animation.FuncAnimation(fig, evolve, frames = N, interval=10)\n",
    "print('Time starts at t=0s and ends at t={}s'.format(dt*N))\n"
   ]
  },
  {
   "cell_type": "code",
   "execution_count": 16,
   "metadata": {},
   "outputs": [],
   "source": [
    "#display_animation(anim4, default_mode='once')"
   ]
  },
  {
   "cell_type": "code",
   "execution_count": 17,
   "metadata": {},
   "outputs": [
    {
     "data": {
      "image/png": "[encoded data removed]",
      "text/plain": [
       "<Figure size 432x288 with 1 Axes>"
      ]
     },
     "metadata": {},
     "output_type": "display_data"
    }
   ],
   "source": [
    "plt.figure()\n",
    "plt.plot(x,t0_aly-t0)\n",
    "plt.xlabel('x')\n",
    "plt.ylabel('T')\n",
    "plt.title('Difference between simulation and anlytical result at final time')\n",
    "plt.show()"
   ]
  },
  {
   "cell_type": "code",
   "execution_count": null,
   "metadata": {},
   "outputs": [],
   "source": []
  }
 ],
 "metadata": {
  "kernelspec": {
   "display_name": "Python 3",
   "language": "python",
   "name": "python3"
  },
  "language_info": {
   "codemirror_mode": {
    "name": "ipython",
    "version": 3
   },
   "file_extension": ".py",
   "mimetype": "text/x-python",
   "name": "python",
   "nbconvert_exporter": "python",
   "pygments_lexer": "ipython3",
   "version": "3.6.5"
  }
 },
 "nbformat": 4,
 "nbformat_minor": 1
}
